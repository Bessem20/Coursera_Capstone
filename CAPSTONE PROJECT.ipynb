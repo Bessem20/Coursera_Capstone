{
 "cells": [
  {
   "cell_type": "markdown",
   "id": "e40c2915-1367-406b-b440-b3ae69862768",
   "metadata": {},
   "source": [
    "THIS PLATFORM IS FOR THE CAPSTONE PROJECT "
   ]
  },
  {
   "cell_type": "code",
   "execution_count": 1,
   "id": "3a02e0a7-de9d-4695-bf7e-8e905373968f",
   "metadata": {},
   "outputs": [],
   "source": [
    "import pandas as pd\n",
    "import numpy as np"
   ]
  },
  {
   "cell_type": "code",
   "execution_count": 2,
   "id": "544880a6-adf5-44bb-8278-ba8a952dd0de",
   "metadata": {},
   "outputs": [
    {
     "name": "stdout",
     "output_type": "stream",
     "text": [
      "Hello Capstone Project Course!\n"
     ]
    }
   ],
   "source": [
    "print('Hello Capstone Project Course!')"
   ]
  },
  {
   "cell_type": "code",
   "execution_count": null,
   "id": "4124e486-2654-4135-9969-d6dd94c8e6a1",
   "metadata": {},
   "outputs": [],
   "source": []
  }
 ],
 "metadata": {
  "kernelspec": {
   "display_name": "Python",
   "language": "python",
   "name": "conda-env-python-py"
  },
  "language_info": {
   "codemirror_mode": {
    "name": "ipython",
    "version": 3
   },
   "file_extension": ".py",
   "mimetype": "text/x-python",
   "name": "python",
   "nbconvert_exporter": "python",
   "pygments_lexer": "ipython3",
   "version": "3.6.13"
  }
 },
 "nbformat": 4,
 "nbformat_minor": 5
}
